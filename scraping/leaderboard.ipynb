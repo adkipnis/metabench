{
 "cells": [
  {
   "cell_type": "code",
   "execution_count": 45,
   "metadata": {},
   "outputs": [],
   "source": [
    "import os\n",
    "import functools"
   ]
  },
  {
   "cell_type": "code",
   "execution_count": 94,
   "metadata": {},
   "outputs": [],
   "source": [
    "class Dataloader:\n",
    "    def __init__(self, root: str):\n",
    "        self.root = root\n",
    "        self.loadUsers()\n",
    "        self.loadModels()\n",
    "        self.loadResults()\n",
    "        self.cleanUsers()\n",
    "            \n",
    "    def loadUsers(self):\n",
    "        users = os.listdir(self.root)\n",
    "        users = [u for u in users if u[0] != '.' if os.path.isdir(os.path.join(self.root, u))]\n",
    "        self.data = dict.fromkeys(sorted(users))\n",
    "    \n",
    "    def loadModels(self):\n",
    "        for user in self.data:\n",
    "            models = os.listdir(os.path.join(self.root, user))\n",
    "            self.data[user] = dict.fromkeys(sorted(models))\n",
    "    \n",
    "    def loadResults(self):\n",
    "        self.users_tmp = []\n",
    "        for user in self.data:\n",
    "            for model in self.data[user]:\n",
    "                path = os.path.join(self.root, user, model)\n",
    "                if not os.path.isdir(path):\n",
    "                    self.users_tmp.append(user)\n",
    "                    continue\n",
    "                self.data[user][model] = sorted(os.listdir(path))\n",
    "\n",
    "    def cleanUsers(self):\n",
    "        self.users_tmp = list(set(self.users_tmp))\n",
    "        for user in self.users_tmp:\n",
    "            self.data[user] = list(self.data[user].keys())\n",
    "                \n",
    "    \n",
    "dl = Dataloader('/home/alex/Downloads/open-llm-leaderboard/')"
   ]
  }
 ],
 "metadata": {
  "kernelspec": {
   "display_name": "metabench",
   "language": "python",
   "name": "python3"
  },
  "language_info": {
   "codemirror_mode": {
    "name": "ipython",
    "version": 3
   },
   "file_extension": ".py",
   "mimetype": "text/x-python",
   "name": "python",
   "nbconvert_exporter": "python",
   "pygments_lexer": "ipython3",
   "version": "3.10.13"
  }
 },
 "nbformat": 4,
 "nbformat_minor": 2
}
